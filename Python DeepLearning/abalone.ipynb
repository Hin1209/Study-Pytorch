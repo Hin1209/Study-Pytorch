{
 "cells": [
  {
   "cell_type": "markdown",
   "id": "literary-guide",
   "metadata": {},
   "source": [
    "# Import required Libraries"
   ]
  },
  {
   "cell_type": "code",
   "execution_count": 52,
   "id": "removed-lingerie",
   "metadata": {},
   "outputs": [],
   "source": [
    "import numpy as np\n",
    "import csv\n",
    "import time \n",
    "# 난수 발생 패턴 고정\n",
    "np.random.seed(1234)  \n",
    "def randomize(): np.random(time.time())\n",
    "    "
   ]
  },
  {
   "cell_type": "markdown",
   "id": "lesser-humor",
   "metadata": {},
   "source": [
    "# Set Hyperparameters"
   ]
  },
  {
   "cell_type": "code",
   "execution_count": 53,
   "id": "golden-impact",
   "metadata": {},
   "outputs": [],
   "source": [
    "RND_MEAN = 0\n",
    "RND_STD = 0.0030\n",
    "\n",
    "learning_rate = 0.001"
   ]
  },
  {
   "cell_type": "markdown",
   "id": "expired-communications",
   "metadata": {},
   "source": [
    "# Main Function"
   ]
  },
  {
   "cell_type": "code",
   "execution_count": 54,
   "id": "indian-breeding",
   "metadata": {},
   "outputs": [],
   "source": [
    "def abalone_exec(epoch_count=10, mb_size=10, report=1):\n",
    "    # 아발로니 데이터셋 로드\n",
    "    load_abalone_dataset() \n",
    "    # 모델 파라미터 초기화\n",
    "    init_model() \n",
    "    # 학습 수행 \n",
    "    train_and_test(epoch_count, mb_size, report) "
   ]
  },
  {
   "cell_type": "markdown",
   "id": "domestic-driving",
   "metadata": {},
   "source": [
    "# Data Load Function"
   ]
  },
  {
   "cell_type": "code",
   "execution_count": 55,
   "id": "parallel-execution",
   "metadata": {},
   "outputs": [],
   "source": [
    "def load_abalone_dataset():\n",
    "    with open('./data/abalone.csv') as csvfile:\n",
    "        # csv는 엑셀처럼 생김\n",
    "        csvreader = csv.reader(csvfile) \n",
    "        # 첫 행은 읽지 않고 넘김 \n",
    "        next(csvreader, None) \n",
    "        rows = []\n",
    "        # 행 단위로 데이터를 읽어옴\n",
    "        for row in csvreader:  \n",
    "            rows.append(row)\n",
    "    # global 변수 선언 \n",
    "    global data, input_cnt, output_cnt \n",
    "    # input의 크기와 output의 크기 지정(성별을 3개의 원핫벡터로 표현하므로 인풋 특성이 총 10개가 됨)\n",
    "    input_cnt, output_cnt = 10, 1 \n",
    "    data = np.zeros([len(rows), input_cnt+output_cnt])\n",
    "    \n",
    "    for n, row in enumerate(rows):\n",
    "        # 성별을 원핫벡터로 표현 \n",
    "        if row[0] == 'I': data[n, 0] = 1 \n",
    "        if row[0] == 'M': data[n, 1] = 1\n",
    "        if row[0] == 'F': data[n, 2] = 1\n",
    "        # 매 행의 0, 1, 2인덱스는 성별을 나타냄, 3부터는 원래 있던 데이터 복붙 \n",
    "        data[n, 3:] = row[1:]  \n",
    "        "
   ]
  },
  {
   "cell_type": "markdown",
   "id": "played-chorus",
   "metadata": {},
   "source": [
    "# Reset parameters Function"
   ]
  },
  {
   "cell_type": "code",
   "execution_count": 56,
   "id": "compact-learning",
   "metadata": {},
   "outputs": [],
   "source": [
    "def init_model():\n",
    "    global weight, bias, input_cnt, output_cnt\n",
    "    weight = np.random.normal(RND_MEAN, RND_STD, [input_cnt, output_cnt])\n",
    "    bias = np.zeros([output_cnt])"
   ]
  },
  {
   "cell_type": "markdown",
   "id": "ultimate-african",
   "metadata": {},
   "source": [
    "# Train Function"
   ]
  },
  {
   "cell_type": "code",
   "execution_count": 57,
   "id": "under-threat",
   "metadata": {},
   "outputs": [],
   "source": [
    "def train_and_test(epoch_count, mb_size, report):\n",
    "    step_count = arrange_data(mb_size)\n",
    "    test_x, test_y = get_test_data()\n",
    "    \n",
    "    for epoch in range(epoch_count):\n",
    "        losses, accs = [], []\n",
    "        \n",
    "        for n in range(step_count):\n",
    "            train_x, train_y = get_train_data(mb_size, n)\n",
    "            loss, acc = run_train(train_x, train_y)\n",
    "            losses.append(loss)\n",
    "            accs.append(acc)\n",
    "            \n",
    "        if report > 0 and (epoch+1) % report == 0:\n",
    "            acc = run_test(test_x, test_y)\n",
    "            print('Epoch {}: loss={:5.3f}, accuracy={:5.3f}/{:5.3f}'.format(epoch+1, np.mean(loss), np.mean(accs), acc))\n",
    "            \n",
    "    final_acc = run_test(test_x, test_y)\n",
    "    print('\\n final test: final accuracy = {:5.3f}'.format(final_acc))"
   ]
  },
  {
   "cell_type": "markdown",
   "id": "comprehensive-thumbnail",
   "metadata": {},
   "source": [
    "# Get data Function"
   ]
  },
  {
   "cell_type": "code",
   "execution_count": 58,
   "id": "plastic-momentum",
   "metadata": {},
   "outputs": [],
   "source": [
    "# 테스트할 데이터와 학습할 데이터를 나누는 함수 \n",
    "def arrange_data(mb_size):\n",
    "    global data, shuffle_map, test_begin_idx \n",
    "    shuffle_map = np.arange(data.shape[0])\n",
    "    np.random.shuffle(shuffle_map)\n",
    "    step_count = int(data.shape[0] * 0.8) // mb_size\n",
    "    test_begin_idx = step_count * mb_size\n",
    "    return step_count\n",
    "\n",
    "# 테스트 데이터를 받아옴 \n",
    "def get_test_data():\n",
    "    global data, shuffle_map, test_begin_idx, output_cnt\n",
    "    test_data = data[shuffle_map[test_begin_idx:]] # 테스트를 시작할 데이터부터 가져옴 \n",
    "    return test_data[:, :-output_cnt], test_data[:, -output_cnt]\n",
    "\n",
    "# 학습할 데이터를 받아옴 \n",
    "def get_train_data(mb_size, nth):\n",
    "    global data, shuffle_map, test_begin_idx, output_cnt\n",
    "    if nth == 0:\n",
    "        np.random.shuffle(shuffle_map[:test_begin_idx])\n",
    "    train_data = data[shuffle_map[mb_size*nth:mb_size*(nth+1)]] # mb_size 만큼의 데이터만 가져옴 \n",
    "    return train_data[:, :-output_cnt], train_data[:, -output_cnt:]\n"
   ]
  },
  {
   "cell_type": "markdown",
   "id": "level-settle",
   "metadata": {},
   "source": [
    "# Run Function"
   ]
  },
  {
   "cell_type": "code",
   "execution_count": 59,
   "id": "broke-gateway",
   "metadata": {},
   "outputs": [],
   "source": [
    "def run_train(x, y):\n",
    "    output, aux_nn = forward_neural(x)\n",
    "    loss, aux_pp = forward_post(output, y)\n",
    "    accuracy = eval_accuracy(output, y)\n",
    "    \n",
    "    G_loss = 1.0 \n",
    "    G_output = backprop_post(G_loss, aux_pp)\n",
    "    backprop_neural(G_output, aux_nn)\n",
    "    \n",
    "    return loss, accuracy\n",
    "\n",
    "def run_test(x, y):\n",
    "    output, _ = forward_neural(x)\n",
    "    accuracy = eval_accuracy(output, y)\n",
    "    return accuracy"
   ]
  },
  {
   "cell_type": "markdown",
   "id": "closed-boundary",
   "metadata": {},
   "source": [
    "# Forward & Backward Propagation Function"
   ]
  },
  {
   "cell_type": "code",
   "execution_count": 60,
   "id": "worthy-collaboration",
   "metadata": {},
   "outputs": [],
   "source": [
    "def forward_neural(x):\n",
    "    global weight, bias\n",
    "    output = np.matmul(x, weight) + bias\n",
    "    return output, x\n",
    "\n",
    "def backprop_neural(G_output, x):\n",
    "    global weight, bias\n",
    "    g_output_w = x.transpose()\n",
    "    \n",
    "    G_w = np.matmul(g_output_w, G_output)\n",
    "    G_b = np.sum(G_output, axis=0)\n",
    "    \n",
    "    weight -= learning_rate * G_w\n",
    "    bias -= learning_rate * G_b\n",
    "    \n",
    "def forward_post(output, y):\n",
    "    diff = output - y\n",
    "    square = np.square(diff)\n",
    "    loss = np.mean(square)\n",
    "    return loss, diff\n",
    "\n",
    "def backprop_post(G_loss, diff):\n",
    "    shape = diff.shape\n",
    "    \n",
    "    g_loss_square = np.ones(shape) / np.prod(shape)\n",
    "    g_square_diff = 2 * diff\n",
    "    g_diff_output = 1\n",
    "    \n",
    "    G_square = g_loss_square * G_loss\n",
    "    G_diff = g_square_diff * G_square\n",
    "    G_output = g_diff_output * G_diff\n",
    "    \n",
    "    return G_output"
   ]
  },
  {
   "cell_type": "markdown",
   "id": "functional-insertion",
   "metadata": {},
   "source": [
    "# Accuracy Function"
   ]
  },
  {
   "cell_type": "code",
   "execution_count": 61,
   "id": "peripheral-material",
   "metadata": {},
   "outputs": [],
   "source": [
    "def eval_accuracy(output, y):\n",
    "    mdiff = np.mean(np.abs((output-y)/y))\n",
    "    return 1 - mdiff"
   ]
  },
  {
   "cell_type": "markdown",
   "id": "fluid-unknown",
   "metadata": {},
   "source": [
    "# Run"
   ]
  },
  {
   "cell_type": "code",
   "execution_count": 63,
   "id": "empirical-reading",
   "metadata": {},
   "outputs": [
    {
     "name": "stdout",
     "output_type": "stream",
     "text": [
      "Epoch 1: loss=19.373, accuracy=0.555/0.683\n",
      "Epoch 2: loss=14.653, accuracy=0.818/0.660\n",
      "Epoch 3: loss=4.109, accuracy=0.810/0.658\n",
      "Epoch 4: loss=4.825, accuracy=0.808/0.661\n",
      "Epoch 5: loss=4.118, accuracy=0.808/0.663\n",
      "Epoch 6: loss=2.944, accuracy=0.809/0.664\n",
      "Epoch 7: loss=3.433, accuracy=0.808/0.666\n",
      "Epoch 8: loss=13.314, accuracy=0.808/0.668\n",
      "Epoch 9: loss=8.611, accuracy=0.807/0.671\n",
      "Epoch 10: loss=6.699, accuracy=0.809/0.670\n",
      "\n",
      " final test: final accuracy = 0.670\n",
      "[[1.01617685]\n",
      " [1.51142756]\n",
      " [1.63278597]\n",
      " [2.03414766]\n",
      " [1.62248277]\n",
      " [0.60801856]\n",
      " [2.42286624]\n",
      " [0.54287   ]\n",
      " [0.47943326]\n",
      " [1.05478035]]\n",
      "[4.15802604]\n"
     ]
    }
   ],
   "source": [
    "abalone_exec()\n",
    "print(weight)\n",
    "print(bias)"
   ]
  }
 ],
 "metadata": {
  "kernelspec": {
   "display_name": "Python 3",
   "language": "python",
   "name": "python3"
  },
  "language_info": {
   "codemirror_mode": {
    "name": "ipython",
    "version": 3
   },
   "file_extension": ".py",
   "mimetype": "text/x-python",
   "name": "python",
   "nbconvert_exporter": "python",
   "pygments_lexer": "ipython3",
   "version": "3.8.5"
  }
 },
 "nbformat": 4,
 "nbformat_minor": 5
}
