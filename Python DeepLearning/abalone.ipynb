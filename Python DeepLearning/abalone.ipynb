{
 "cells": [
  {
   "cell_type": "markdown",
   "id": "ready-sunglasses",
   "metadata": {},
   "source": [
    "# Import required Libraries"
   ]
  },
  {
   "cell_type": "code",
   "execution_count": 45,
   "id": "described-failing",
   "metadata": {},
   "outputs": [],
   "source": [
    "import numpy as np\n",
    "import csv\n",
    "import time \n",
    "# 난수 발생 패턴 고정\n",
    "np.random.seed(1234)  \n",
    "def randomize(): np.random(time.time())\n",
    "    "
   ]
  },
  {
   "cell_type": "markdown",
   "id": "august-modern",
   "metadata": {},
   "source": [
    "# Set Hyperparameters"
   ]
  },
  {
   "cell_type": "code",
   "execution_count": 46,
   "id": "forward-eligibility",
   "metadata": {},
   "outputs": [],
   "source": [
    "RND_MEAN = 0\n",
    "RND_STD = 0.0030\n",
    "\n",
    "learning_rate = 0.001"
   ]
  },
  {
   "cell_type": "markdown",
   "id": "social-spelling",
   "metadata": {},
   "source": [
    "# Main Function"
   ]
  },
  {
   "cell_type": "code",
   "execution_count": 47,
   "id": "careful-parker",
   "metadata": {},
   "outputs": [],
   "source": [
    "def abalone_exec(epoch_count=10, mb_size=10, report=1):\n",
    "    # 아발로니 데이터셋 로드\n",
    "    load_abalone_dataset() \n",
    "    # 모델 파라미터 초기화\n",
    "    init_model() \n",
    "    # 학습 수행 \n",
    "    train_and_test(epoch_count, mb_size, report) "
   ]
  },
  {
   "cell_type": "markdown",
   "id": "nearby-chance",
   "metadata": {},
   "source": [
    "# Data Load Function"
   ]
  },
  {
   "cell_type": "code",
   "execution_count": 48,
   "id": "sweet-anthropology",
   "metadata": {},
   "outputs": [],
   "source": [
    "def load_abalone_dataset():\n",
    "    with open('./data/abalone.csv') as csvfile:\n",
    "        # csv는 엑셀처럼 생김\n",
    "        csvreader = csv.reader(csvfile) \n",
    "        # 첫 행은 읽지 않고 넘김 \n",
    "        next(csvreader, None) \n",
    "        rows = []\n",
    "        # 행 단위로 데이터를 읽어옴\n",
    "        for row in csvreader:  \n",
    "            rows.append(row)\n",
    "    # global 변수 선언 \n",
    "    global data, input_cnt, output_cnt \n",
    "    # input의 크기와 output의 크기 지정(성별을 3개의 원핫벡터로 표현하므로 인풋 특성이 총 10개가 됨)\n",
    "    input_cnt, output_cnt = 10, 1 \n",
    "    data = np.zeros([len(rows), input_cnt+output_cnt])\n",
    "    \n",
    "    for n, row in enumerate(rows):\n",
    "        # 성별을 원핫벡터로 표현 \n",
    "        if row[0] == 'I': data[n, 0] = 1 \n",
    "        if row[0] == 'M': data[n, 1] = 1\n",
    "        if row[0] == 'F': data[n, 2] = 1\n",
    "        # 매 행의 0, 1, 2인덱스는 성별을 나타냄, 3부터는 원래 있던 데이터 복붙 \n",
    "        data[n, 3:] = row[1:]  \n",
    "        "
   ]
  },
  {
   "cell_type": "markdown",
   "id": "funky-contact",
   "metadata": {},
   "source": [
    "# Reset parameters Function"
   ]
  },
  {
   "cell_type": "code",
   "execution_count": 49,
   "id": "racial-appeal",
   "metadata": {},
   "outputs": [],
   "source": [
    "def init_model():\n",
    "    global weight, bias, input_cnt, output_cnt\n",
    "    # 가중치를 정규분포 형태에서 뽑아옴 여기서 shape는 (10, 1) \n",
    "    weight = np.random.normal(RND_MEAN, RND_STD, [input_cnt, output_cnt])  \n",
    "    bias = np.zeros([output_cnt])"
   ]
  },
  {
   "cell_type": "markdown",
   "id": "inappropriate-trauma",
   "metadata": {},
   "source": [
    "# Train Function"
   ]
  },
  {
   "cell_type": "code",
   "execution_count": 50,
   "id": "czech-compact",
   "metadata": {},
   "outputs": [],
   "source": [
    "def train_and_test(epoch_count, mb_size, report):\n",
    "    # 1 epoch당 진행할 학습 횟수(mb_size에 따라 결정됨)\n",
    "    step_count = arrange_data(mb_size)\n",
    "    # 테스트 데이터를 받아옴 \n",
    "    test_x, test_y = get_test_data()\n",
    "    \n",
    "    for epoch in range(epoch_count):\n",
    "        losses, accs = [], []\n",
    "        \n",
    "        for n in range(step_count):\n",
    "            # 학습 데이터 받아옴 \n",
    "            train_x, train_y = get_train_data(mb_size, n)\n",
    "            # 학습 진행, 리턴 값으로 손실값과 정확도를 받음 \n",
    "            loss, acc = run_train(train_x, train_y)\n",
    "            losses.append(loss)\n",
    "            accs.append(acc)\n",
    "            \n",
    "        if report > 0 and (epoch+1) % report == 0:\n",
    "            acc = run_test(test_x, test_y)\n",
    "            print('Epoch {}: loss={:5.3f}, accuracy={:5.3f}/{:5.3f}'.format(epoch+1, np.mean(loss), np.mean(accs), acc))\n",
    "            \n",
    "    final_acc = run_test(test_x, test_y)\n",
    "    print('\\n final test: final accuracy = {:5.3f}'.format(final_acc))"
   ]
  },
  {
   "cell_type": "markdown",
   "id": "little-sixth",
   "metadata": {},
   "source": [
    "# Get data Function"
   ]
  },
  {
   "cell_type": "code",
   "execution_count": 51,
   "id": "seventh-princeton",
   "metadata": {},
   "outputs": [],
   "source": [
    "# 테스트할 데이터와 학습할 데이터를 나누는 함수 \n",
    "def arrange_data(mb_size):\n",
    "    global data, shuffle_map, test_begin_idx \n",
    "    # 들어온 데이터의 개수만큼 인덱스 생성 \n",
    "    shuffle_map = np.arange(data.shape[0])\n",
    "    # 들어온 데이터를 섞어줌 \n",
    "    np.random.shuffle(shuffle_map)\n",
    "    # 20%의 데이터는 테스트를 위해 남겨둠 \n",
    "    step_count = int(data.shape[0] * 0.8) // mb_size\n",
    "    # 테스트로 쓸 데이터의 첫번째 인덱스 지정 \n",
    "    test_begin_idx = step_count * mb_size\n",
    "    return step_count\n",
    "\n",
    "# 테스트 데이터를 받아옴 \n",
    "def get_test_data():\n",
    "    global data, shuffle_map, test_begin_idx, output_cnt\n",
    "    # 테스트를 시작할 데이터부터 가져옴\n",
    "    test_data = data[shuffle_map[test_begin_idx:]]   \n",
    "    # 테스트 데이터, 정답 형식으로 리턴 \n",
    "    return test_data[:, :-output_cnt], test_data[:, -output_cnt]\n",
    "\n",
    "# 학습할 데이터를 받아옴 \n",
    "def get_train_data(mb_size, nth):\n",
    "    global data, shuffle_map, test_begin_idx, output_cnt\n",
    "    # 학습을 처음 진행하는 경우 학습 데이터끼리 순서를 한 번 더 섞어줌(없어도 돌아가기는 하는 코드)\n",
    "    if nth == 0:\n",
    "        np.random.shuffle(shuffle_map[:test_begin_idx])\n",
    "    # mb_size 만큼의 데이터만 가져옴 \n",
    "    train_data = data[shuffle_map[mb_size*nth:mb_size*(nth+1)]] \n",
    "    return train_data[:, :-output_cnt], train_data[:, -output_cnt:]\n"
   ]
  },
  {
   "cell_type": "markdown",
   "id": "entertaining-convertible",
   "metadata": {},
   "source": [
    "# Run Function"
   ]
  },
  {
   "cell_type": "code",
   "execution_count": 52,
   "id": "pending-relief",
   "metadata": {},
   "outputs": [],
   "source": [
    "# x는 들어온 데이터, y는 정답 \n",
    "def run_train(x, y):\n",
    "    # output은 예측한 정답, aux_nn은 역전파 계산을 위해 남겨둔 x \n",
    "    output, aux_nn = forward_neural(x)\n",
    "    # 예측값과 정답의 평균제곱오차와 오차로 리턴 \n",
    "    loss, aux_pp = forward_post(output, y)\n",
    "    accuracy = eval_accuracy(output, y)\n",
    "    \n",
    "    # dL/dL = 1\n",
    "    G_loss = 1.0 \n",
    "    G_output = backprop_post(G_loss, aux_pp)\n",
    "    backprop_neural(G_output, aux_nn)\n",
    "    \n",
    "    return loss, accuracy\n",
    "\n",
    "def run_test(x, y):\n",
    "    output, _ = forward_neural(x)\n",
    "    accuracy = eval_accuracy(output, y)\n",
    "    return accuracy"
   ]
  },
  {
   "cell_type": "markdown",
   "id": "unable-policy",
   "metadata": {},
   "source": [
    "# Forward & Backward Propagation Function\n",
    "\n",
    "backprop_post의 이해를 돕기 위한 수식이다. \n",
    "\n",
    "$$ L = \\frac{\\sum_{i=1}^M \\sum_{j=1}^N square_{ij}}{MN} $$  \n",
    "\n",
    "$$ \\frac{\\partial{L}}{\\partial{output_{ij}}} = \\frac{\\partial{L}}{\\partial{L}} \\times \\frac{\\partial{L}}{\\partial{square_{ij}}} \\times \\frac{\\partial{square_{ij}}}{\\partial{diff_{ij}}} \\times \\frac{\\partial{diff_{ij}}}{\\partial{output_{ij}}}$$   \n",
    "\n",
    "$$ square_{ij} = diff_{ij}^2  -> \\frac{\\partial{square_{ij}}}{\\partial{diff_{ij}}} = 2diff_{ij}$$     \n",
    "\n",
    "$$ \\frac{\\partial{L}}{\\partial{square_{ij}}} = \\frac{1}{MN} $$   \n",
    "\n",
    "$$ \\frac{\\partial{diff_{ij}}}{\\partial{output_{ij}}} = 1 $$ \n",
    "\n",
    "\n",
    "다음은 backprop_neural을 이해하기 위한 수식이다. \n",
    "$$ \\frac{\\partial{L}}{\\partial{W_{kj}}} = \\frac{\\partial{L}}{\\partial{output_{ij}}} \\times \\frac{\\partial{output_{ij}}}{\\partial{W_{kj}}} $$   \n",
    "$$ \\frac{\\partial{L}}{\\partial{W}} = X^T G (\\frac{\\partial{L}}{\\partial{output}} = G) $$  \n",
    "$$ \\frac{\\partial{L}}{\\partial{B_j}} = \\sum_{k=1}^m G_{kj} $$"
   ]
  },
  {
   "cell_type": "code",
   "execution_count": 53,
   "id": "incoming-shell",
   "metadata": {},
   "outputs": [],
   "source": [
    "def forward_neural(x):\n",
    "    global weight, bias\n",
    "    # mb_size가 10이므로 x가 (10, 10)이고 weight가 (10, 1) 따라서 output은 (10, 1)이 됨. \n",
    "    output = np.matmul(x, weight) + bias\n",
    "    return output, x\n",
    "\n",
    "# 계산한 미분값을 이용해 w와 b를 업데이트 해주는 함수 \n",
    "def backprop_neural(G_output, x):\n",
    "    global weight, bias\n",
    "    g_output_w = x.transpose()\n",
    "    \n",
    "    G_w = np.matmul(g_output_w, G_output)\n",
    "    G_b = np.sum(G_output, axis=0)\n",
    "    \n",
    "    weight -= learning_rate * G_w\n",
    "    bias -= learning_rate * G_b\n",
    "    \n",
    "# 평균제곱 오차와 역전파 계산을 위해 그냥 오차 값을 전달하는 함수 \n",
    "def forward_post(output, y):\n",
    "    diff = output - y\n",
    "    square = np.square(diff)\n",
    "    loss = np.mean(square)\n",
    "    return loss, diff\n",
    "\n",
    "# 역전파 계산을 위해 dL/dY 값을 구해주는 함수 \n",
    "def backprop_post(G_loss, diff):\n",
    "    shape = diff.shape # (10, 1)\n",
    "    \n",
    "    g_loss_square = np.ones(shape) / np.prod(shape)\n",
    "    g_square_diff = 2 * diff\n",
    "    g_diff_output = 1\n",
    "    \n",
    "    G_square = g_loss_square * G_loss\n",
    "    G_diff = g_square_diff * G_square\n",
    "    G_output = g_diff_output * G_diff\n",
    "    \n",
    "    return G_output"
   ]
  },
  {
   "cell_type": "markdown",
   "id": "undefined-maximum",
   "metadata": {},
   "source": [
    "# Accuracy Function"
   ]
  },
  {
   "cell_type": "code",
   "execution_count": 54,
   "id": "alike-tomato",
   "metadata": {},
   "outputs": [],
   "source": [
    "def eval_accuracy(output, y):\n",
    "    mdiff = np.mean(np.abs((output-y)/y))\n",
    "    return 1 - mdiff"
   ]
  },
  {
   "cell_type": "markdown",
   "id": "greater-recovery",
   "metadata": {},
   "source": [
    "# Run"
   ]
  },
  {
   "cell_type": "code",
   "execution_count": 55,
   "id": "satellite-choice",
   "metadata": {},
   "outputs": [
    {
     "name": "stdout",
     "output_type": "stream",
     "text": [
      "Epoch 1: loss=10.241, accuracy=0.557/0.692\n",
      "Epoch 2: loss=15.216, accuracy=0.820/0.674\n",
      "Epoch 3: loss=4.751, accuracy=0.812/0.672\n",
      "Epoch 4: loss=8.049, accuracy=0.808/0.676\n",
      "Epoch 5: loss=2.982, accuracy=0.810/0.677\n",
      "Epoch 6: loss=20.395, accuracy=0.808/0.679\n",
      "Epoch 7: loss=9.585, accuracy=0.808/0.681\n",
      "Epoch 8: loss=7.799, accuracy=0.808/0.684\n",
      "Epoch 9: loss=3.493, accuracy=0.810/0.683\n",
      "Epoch 10: loss=3.433, accuracy=0.809/0.684\n",
      "\n",
      " final test: final accuracy = 0.684\n",
      "[[1.02697603]\n",
      " [1.47450981]\n",
      " [1.66960135]\n",
      " [2.04468668]\n",
      " [1.62513525]\n",
      " [0.60292627]\n",
      " [2.39993815]\n",
      " [0.54107313]\n",
      " [0.46878034]\n",
      " [1.01969382]]\n",
      "[4.16894769]\n"
     ]
    }
   ],
   "source": [
    "abalone_exec()\n",
    "print(weight)\n",
    "print(bias)"
   ]
  }
 ],
 "metadata": {
  "kernelspec": {
   "display_name": "Python 3",
   "language": "python",
   "name": "python3"
  },
  "language_info": {
   "codemirror_mode": {
    "name": "ipython",
    "version": 3
   },
   "file_extension": ".py",
   "mimetype": "text/x-python",
   "name": "python",
   "nbconvert_exporter": "python",
   "pygments_lexer": "ipython3",
   "version": "3.8.5"
  }
 },
 "nbformat": 4,
 "nbformat_minor": 5
}
