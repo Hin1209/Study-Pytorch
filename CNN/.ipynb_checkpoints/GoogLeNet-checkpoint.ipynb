{
 "cells": [
  {
   "cell_type": "markdown",
   "metadata": {
    "id": "dTSTwLgnL0Rh"
   },
   "source": [
    "# GoogLeNet \n",
    "GoogLeNet에서는 1x1 합성곱 연산을 통해 연산 과정에서 메모리를 적게 사용하게끔 하는 과정이 있다.  \n"
   ]
  },
  {
   "cell_type": "code",
   "execution_count": 1,
   "metadata": {
    "id": "xcYQDplpK70j"
   },
   "outputs": [],
   "source": [
    "import torch\n",
    "import torch.nn as nn\n",
    "import torch.optim as optim\n",
    "import torch.nn.init as init\n",
    "import torchvision.datasets as dset\n",
    "import torchvision.transforms as transforms\n",
    "from torch.utils.data import DataLoader"
   ]
  },
  {
   "cell_type": "markdown",
   "metadata": {
    "id": "i3Kaj09AQbNg"
   },
   "source": [
    "# 인셉션 모듈 안의 합성곱 연산 함수 \n"
   ]
  },
  {
   "cell_type": "code",
   "execution_count": 2,
   "metadata": {
    "id": "c1R1SGhNMPMP"
   },
   "outputs": [],
   "source": [
    "def conv_1(in_dim, out_dim):\n",
    "  model = nn.Sequential(\n",
    "      nn.Conv2d(in_dim, out_dim, 1, 1),\n",
    "      nn.ReLU(),\n",
    "  )\n",
    "  return model\n",
    "\n",
    "def conv_1_3(in_dim, out_dim):\n",
    "  model = nn.Sequential(\n",
    "      nn.Conv2d(in_dim, out_dim, 1, 1),\n",
    "      nn.ReLU(),\n",
    "      nn.Conv2d(in_dim, out_dim, 3, 1, 1),\n",
    "      nn.ReLU(),\n",
    "  )\n",
    "  return model\n",
    "\n",
    "def conv_1_5(in_dim, out_dim):\n",
    "  model = nn.Sequential(\n",
    "      nn.Conv2d(in_dim, out_dim, 1, 1),\n",
    "      nn.ReLU(),\n",
    "      nn.Conv2d(in_dim, out_dim, 5, 1, 2),\n",
    "      nn.ReLU(),\n",
    "  )\n",
    "  return model\n",
    "\n",
    "def max_3_1(in_dim, out_dim):\n",
    "  model = nn.Sequential(\n",
    "      nn.MaxPool2d(3, 1, 1),\n",
    "      nn.Conv2d(in_dim, out_dim, 1, 1),\n",
    "      nn.ReLU(),\n",
    "  )\n",
    "  return model"
   ]
  },
  {
   "cell_type": "markdown",
   "metadata": {
    "id": "a9GLZ7BhQfqw"
   },
   "source": [
    "# 인셉션 모듈  "
   ]
  },
  {
   "cell_type": "code",
   "execution_count": 3,
   "metadata": {
    "id": "nxRtJYyJNMDm"
   },
   "outputs": [],
   "source": [
    "class inception_module(nn.Module):\n",
    "  def __init__(self, in_dim, out_dim_1, mid_dim_3, out_dim_3, mid_dim_5, out_dim_5, pool):\n",
    "    super(inception_module, self).__init__()\n",
    "\n",
    "    self.conv_1 = conv_1(in_dim, out_dim)\n",
    "    self.conv_1_3 = conv_1_3(in_dim, mid_dim_3, out_dim_3)\n",
    "    self.conv_1_5 = conv_1_5(in_dim, mid_dim_5, out_dim_5)\n",
    "    self.max_3_1 = max_3_1(in_dim, pool)\n",
    "\n",
    "  def forward(self, x):\n",
    "    out_1 = self.conv_1(x)\n",
    "    out_2 = self.conv_1_3(x)\n",
    "    out_3 = self.conv_1_5(x)\n",
    "    out_4 = self.max_3_1(x)\n",
    "    output = torch.cat([out_1, out_2, out_3, out_4], 1)\n",
    "    return output\n",
    "    "
   ]
  },
  {
   "cell_type": "markdown",
   "metadata": {
    "id": "okXyeP97QiVG"
   },
   "source": [
    "# 구글넷 모듈 "
   ]
  },
  {
   "cell_type": "code",
   "execution_count": 4,
   "metadata": {
    "id": "l8Ow5UR5OZqd"
   },
   "outputs": [],
   "source": [
    "class GoogLeNet(nn.Module):\n",
    "  def __init__(self, base_dim, num_classes=2):\n",
    "    super(GoogLeNet, self).__init__()\n",
    "    self.layer_1 = nn.Sequential(\n",
    "        nn.Conv2d(3, base_dim, 7, 2, 3),\n",
    "        nn.MaxPool2d(3, 2, 1),\n",
    "        nn.Conv2d(base_dim, base_dim*3, 3, 1, 1),\n",
    "        nn.MaxPool2d(3, 2, 1),\n",
    "    )\n",
    "    self.layer_2 = nn.Sequential(\n",
    "        inception_module(base_dim*3, 64, 96, 128, 16, 32, 32),\n",
    "        inception_module(base_dim*4, 128, 128, 192, 32, 96, 64),\n",
    "        nn.MaxPool2d(3, 2, 1),\n",
    "    )\n",
    "    self.layer_3 = nn.Sequential(\n",
    "        inception_module(480, 192, 96, 208, 16, 48, 64),\n",
    "        inception_module(512, 160, 112, 224, 24, 64, 64),\n",
    "        inception_module(512, 128, 128, 256, 24, 64, 64),\n",
    "        inception_module(512, 112, 144, 288, 32, 64, 64),\n",
    "        inception_module(528, 256, 160, 320, 32, 128, 128),\n",
    "        nn.MaxPool2d(3, 2, 1),\n",
    "    )\n",
    "    self.layer_4 = nn.Sequential(\n",
    "        inception_module(832, 256, 160, 320, 32, 128, 128),\n",
    "        inception_module(832, 384, 192, 384, 48, 128, 128),\n",
    "        nn.AvgPool2d(7, 1)\n",
    "    )\n",
    "    self.layer_5 = nn.Dropout2d(0.4)\n",
    "    self.fc_layer = nn.Linear(1024, 1000)\n",
    "\n",
    "  def forward(self, x):\n",
    "    out = self.layer_1(x)\n",
    "    out = self.layer_2(out)\n",
    "    out = self.layer_3(out)\n",
    "    out = self.layer_4(out)\n",
    "    out = self.layer_5(out)\n",
    "    out = out.view(batch_size, -1)\n",
    "    out = self.fc_layer(out)\n",
    "\n",
    "    return out"
   ]
  }
 ],
 "metadata": {
  "colab": {
   "authorship_tag": "ABX9TyN7s75HWOJ1qlcbbsqc2YZm",
   "include_colab_link": true,
   "name": "GoogLeNet.ipynb",
   "provenance": []
  },
  "kernelspec": {
   "display_name": "Python 3",
   "language": "python",
   "name": "python3"
  },
  "language_info": {
   "codemirror_mode": {
    "name": "ipython",
    "version": 3
   },
   "file_extension": ".py",
   "mimetype": "text/x-python",
   "name": "python",
   "nbconvert_exporter": "python",
   "pygments_lexer": "ipython3",
   "version": "3.8.5"
  }
 },
 "nbformat": 4,
 "nbformat_minor": 4
}
