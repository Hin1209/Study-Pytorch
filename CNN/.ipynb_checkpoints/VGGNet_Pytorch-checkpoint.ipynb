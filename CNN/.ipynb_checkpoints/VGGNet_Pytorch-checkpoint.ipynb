{
 "cells": [
  {
   "cell_type": "code",
   "execution_count": 1,
   "metadata": {
    "id": "VC4YaFiqDPu4"
   },
   "outputs": [],
   "source": [
    "import torch\n",
    "import torch.nn as nn\n",
    "import torch.optim as optim\n",
    "import torch.nn.init as init\n",
    "import torchvision.datasets as dset\n",
    "import torchvision.transforms as transforms\n",
    "from torch.utils.data import DataLoader\n"
   ]
  },
  {
   "cell_type": "code",
   "execution_count": 8,
   "metadata": {
    "id": "qHHITShrDXXd"
   },
   "outputs": [],
   "source": [
    "class VGG(nn.Module):\n",
    "\n",
    "  def __init__(self, features, num_classes=1000, init_weights=True):\n",
    "    super(VGG, self).__init__()\n",
    "    self.features = features\n",
    "    self.avgpool = nn.AdaptiveAvgPool2d((7, 7))\n",
    "    self.classifier = nn.Sequential(\n",
    "        nn.Linear(512 * 7 * 7, 4096),\n",
    "        nn.ReLU(True),\n",
    "        nn.Linear(4096, 4096),\n",
    "        nn.ReLU(True),\n",
    "        nn.Linear(4096, num_classes),\n",
    "    )\n",
    "    if init_weights:\n",
    "      self._initialize_weights()\n",
    "\n",
    "  def forward(self, x):\n",
    "    x = self.features(x)\n",
    "    x = self.avgpool(x)\n",
    "    x = x.view(x.size(0), -1)\n",
    "    x = self.classifier(x)\n",
    "    return x\n",
    "  \n",
    "  def _initialize_weights(self):\n",
    "    for m in self.modules():\n",
    "      if isinstance(m, nn.Conv2d):\n",
    "        nn.init.kaiming_normal_(m.weight, mode='fan_out', nonlinearity='relu')\n",
    "        if m.bias is not None:\n",
    "          nn.init.constant_(m.bias, 0)\n",
    "      elif isinstance(m, nn.BatchNorm2d):\n",
    "        nn.init.constant_(m.weight, 1)\n",
    "        nn.init.constant_(m.bias, 0)\n",
    "      elif isinstance(m, nn.Linear):\n",
    "        nn.init.normal_(m.weight, 0, 0.01)\n",
    "        nn.init.constant_(m.bias, 0)\n",
    "      \n",
    "\n",
    "  def make_layers(cfg, batch_norm=False):\n",
    "    layers = []\n",
    "    in_channels = 3\n",
    "    for v in cfg:\n",
    "      if v == 'M':\n",
    "        layers += [nn.MaxPool2d(kernel_size=2, stride=2)]\n",
    "      else:\n",
    "        conv2d = nn.Conv2d(in_channels, v, kernel_size=3, padding=1)\n",
    "        if batch_norm:\n",
    "          layers += [conv2d, nn.BatchNorm2d(v), nn.ReLU(inplace=True)]\n",
    "        else:\n",
    "          layers += [conv2d, nn.ReLU(inplace=True)]\n",
    "        in_channels = v\n",
    "    return nn.Sequential(*layers)\n",
    "\n",
    "  cfgs = {\n",
    "      'A': [64, 'M', 128, 'M', 256, 256, 'M', 512, 512, 'M', 512, 512, 'M'],\n",
    "      'B': [64, 64, 'M', 128, 128, 'M', 256, 256, 'M', 512, 512, 'M', 512, 512, 'M'],\n",
    "      'D': [64, 64, 'M', 128, 128, 'M', 256, 256, 256, 'M', 512, 512, 512, 'M', 512, 512, 512, 'M'],\n",
    "      'E': [64, 64, 'M', 128, 128, 'M', 256, 256, 256, 256, 'M', 512, 512, 512, 512, 'M', 512, 512, 512, 512, 'M'],\n",
    "  }"
   ]
  }
 ],
 "metadata": {
  "colab": {
   "authorship_tag": "ABX9TyOlB6kMm/I38qN4WODhX2Mq",
   "include_colab_link": true,
   "name": "VGGNet-Pytorch.ipynb",
   "provenance": []
  },
  "kernelspec": {
   "display_name": "Python 3",
   "language": "python",
   "name": "python3"
  },
  "language_info": {
   "codemirror_mode": {
    "name": "ipython",
    "version": 3
   },
   "file_extension": ".py",
   "mimetype": "text/x-python",
   "name": "python",
   "nbconvert_exporter": "python",
   "pygments_lexer": "ipython3",
   "version": "3.8.5"
  }
 },
 "nbformat": 4,
 "nbformat_minor": 4
}
