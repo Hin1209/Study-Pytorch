{
  "nbformat": 4,
  "nbformat_minor": 0,
  "metadata": {
    "colab": {
      "name": "Linear Regression.ipynb",
      "provenance": [],
      "authorship_tag": "ABX9TyN2+g9VRo/Xvc8CX6lH/oZX",
      "include_colab_link": true
    },
    "kernelspec": {
      "name": "python3",
      "display_name": "Python 3"
    }
  },
  "cells": [
    {
      "cell_type": "markdown",
      "metadata": {
        "id": "view-in-github",
        "colab_type": "text"
      },
      "source": [
        "<a href=\"https://colab.research.google.com/github/Tin1209/Study-Pytorch/blob/main/Linear_Regression.ipynb\" target=\"_parent\"><img src=\"https://colab.research.google.com/assets/colab-badge.svg\" alt=\"Open In Colab\"/></a>"
      ]
    },
    {
      "cell_type": "markdown",
      "metadata": {
        "id": "9huB5-xiQx8W"
      },
      "source": [
        "# 선형회귀분석(Linear Regression)   \n",
        "   \n",
        "   \n",
        "## 1. 선형회귀분석이란?   \n",
        "\n",
        "선형회귀분석이란 주어진 데이터를 가장 잘 설명하는 하나의 직선을 찾는 것이다.  \n",
        "하나의 독립변수에 대하여 선형회귀분석을 하는 경우 __단순선형회귀(simple linear regression)__라 하며,   \n",
        "여러개의 독립변수에 대하여 선형회귀분석을 하는 경우 __다중선형회귀(multivariate linear regression)__이라 한다.  \n",
        "\n",
        "단순선형회귀분석은 $x$와 $y$라는 데이터가 주어졌을때, 데이터를 가장 잘 표현하는 $y = wx + b$ 꼴의 직선을 찾는 것이다.   \n",
        "여기서 $w$는 __가중치(weight)__, $b$는 __편차(bias)__라 한다.    \n",
        "\n",
        "\n",
        "## 2. 손실 함수 및 경사하강법   \n",
        "  \n",
        "\n",
        "데이터를 가장 잘 표현한다는 말을 수학적으로 표현하면 $y = wx + b$ 를 통해 예측한 $\\hat{y}$ 와 실제 결과값 $y$를 비교하는 것이다.   \n",
        "이때 비교하는 방법 중 대표적인 것으로 __평균제곱오차(mean squared error-MSE)__가 있다.  \n",
        "평균제곱오차 식은 다음과 같다.  $$MSE = \\frac{1} {n}  \\sum_{i = 1}^n (\\hat{y} - y)^2$$   \n",
        "이렇게 오차를 나타내는 함수를 흔히 __손실 함수(Loss function)__ 또는 __비용 함수(Cost function)__ 이라고 한다. MSE는 이러한 Cost function 중에 하나이다. \n",
        "\n",
        "여기서 Cost function을 최소화하는 $w$와 $b$를 찾기위해 __경사하강법(Gradient descent)__이라는 방법을 사용한다. 여기서 경사란 함수의 기울기를 의미한다.   \n",
        "Cost function에서 주어진 $w$에 대한 기울기를 구하고, 그 기울기를 바탕으로 다음 $w$를 업데이트 함으로써 오차의 극솟값을 찾아준다. 식으로 표현하면 다음과 같다.\n",
        "$$ w_{t+1} = w_{t} - gradient * learning\\ rate $$  \n",
        "여기서 __학습률(learning rate)__이 새로 나오는데, 학습률은 변수 $w$를 얼마나 업데이트할지 결정하는 수치이다.   \n",
        "\n",
        "## 3. 파이토치에서 경사하강법  \n",
        "\n",
        "파이토치에서는 데이터의 기본 단위로 다차원 배열인 텐서(Tensor)를 사용한다.   \n"
      ]
    },
    {
      "cell_type": "code",
      "metadata": {
        "colab": {
          "base_uri": "https://localhost:8080/"
        },
        "id": "3QRjUegDSrMy",
        "outputId": "b921a331-acdd-4ecf-d6ba-dea2f636743f"
      },
      "source": [
        "import torch\n",
        "X = torch.Tensor(2, 3)\n",
        "print(X)"
      ],
      "execution_count": 14,
      "outputs": [
        {
          "output_type": "stream",
          "text": [
            "tensor([[3.8342e-35, 0.0000e+00, 1.5695e-43],\n",
            "        [0.0000e+00, 0.0000e+00, 0.0000e+00]])\n"
          ],
          "name": "stdout"
        }
      ]
    },
    {
      "cell_type": "markdown",
      "metadata": {
        "id": "Npn1mpufdZr5"
      },
      "source": [
        "위의 코드를 실행시키면 1행에서는 파이토치의 프레임워크를 불러오고,  \n",
        "2행에서는 X라는 변수에 임의의 난수를 원소로 갖는 2x3 형태의 텐서를 생성해서 지정한다.    "
      ]
    },
    {
      "cell_type": "code",
      "metadata": {
        "colab": {
          "base_uri": "https://localhost:8080/"
        },
        "id": "qd7Z19EJdv3h",
        "outputId": "e0fc532e-9e7a-4481-edd5-e15c9dd945b0"
      },
      "source": [
        "X = torch.tensor([[1, 2, 3], [4, 5, 6]])\n",
        "print(X)"
      ],
      "execution_count": 15,
      "outputs": [
        {
          "output_type": "stream",
          "text": [
            "tensor([[1, 2, 3],\n",
            "        [4, 5, 6]])\n"
          ],
          "name": "stdout"
        }
      ]
    },
    {
      "cell_type": "markdown",
      "metadata": {
        "id": "XOKDdZ9md_VW"
      },
      "source": [
        "위의 코드처럼 텐서를 생성할때 직접 shape과 element들을 지정해줄 수 있다.   \n",
        "torch.tensor 함수는 인수로 data, dtype, device, requires_grad 등을 받는다.  \n",
        "data에는 위의 코드처럼 배열이 들어가고,  \n",
        "dtype에는 데이터의 자료형이 들어간다. 자료형을 지정해주지 않을시 기본 자료형은 Float로 들어간다. \n",
        "device에는 이 텐서를 어느 기기에 올릴 것인지를 명시한다.   \n",
        "requires_grad는 이 텐서에 대한 기울기를 저장할지에 대한 여부를 지정한다.  \n",
        "\n",
        "아래의 코드는 기울기를 계산하는 코드이다. "
      ]
    },
    {
      "cell_type": "code",
      "metadata": {
        "colab": {
          "base_uri": "https://localhost:8080/"
        },
        "id": "dVRdFzCZe7pJ",
        "outputId": "253c15ac-e72e-40a4-866f-de036f2d1a09"
      },
      "source": [
        "x = torch.tensor(data=[2.0, 3.0], requires_grad=True)\n",
        "y = x**2\n",
        "z = 2*y + 3\n",
        "\n",
        "target = torch.tensor([3.0, 4.0])\n",
        "loss = torch.sum(torch.abs(z-target))\n",
        "loss.backward()\n",
        "\n",
        "print(x.grad, y.grad, z.grad)"
      ],
      "execution_count": 5,
      "outputs": [
        {
          "output_type": "stream",
          "text": [
            "tensor([ 8., 12.]) None None\n"
          ],
          "name": "stdout"
        },
        {
          "output_type": "stream",
          "text": [
            "/usr/local/lib/python3.6/dist-packages/ipykernel_launcher.py:9: UserWarning: The .grad attribute of a Tensor that is not a leaf Tensor is being accessed. Its .grad attribute won't be populated during autograd.backward(). If you indeed want the gradient for a non-leaf Tensor, use .retain_grad() on the non-leaf Tensor. If you access the non-leaf Tensor by mistake, make sure you access the leaf Tensor instead. See github.com/pytorch/pytorch/pull/30531 for more informations.\n",
            "  if __name__ == '__main__':\n"
          ],
          "name": "stderr"
        }
      ]
    },
    {
      "cell_type": "markdown",
      "metadata": {
        "id": "Jhj3uu9ROSx2"
      },
      "source": [
        "위의 식을 정리해보면 $z = 2x^2 + 3$의 식에서 $x$에 대한 기울기를 구하는 코드이다.  \n",
        "z와 target의 절댓값 차이를 계산한 후 torch.sum()을 통해 1x2 형태의 두 값의 차이를 하나의 숫자로 바꿨다.  \n",
        "다음 loss.backward() 함수를 호출해 연산 그래프를 따라가면서 leaf node인 $x$에 대한 기울기를 계산한다.  \n",
        "$x$에 대한 종속변수인 $y$나 $z$와는 달리 그 자체가 데이터 값을 갖는 $x$같은 변수들을 __leaf node__라고 한다.  \n",
        "코드의 마지막줄을 실행하면 x.grad는 결과값이 나오지만, y와 z는 leaf node가 아니기때문에 None값이 리턴된다.  \n",
        "\n",
        "다음은 선형회귀분석 모델을 만들어 기울기를 계산하고 $w$와 $b$를 업데이트하는 전체 과정을 담은 코드이다.  \n"
      ]
    },
    {
      "cell_type": "code",
      "metadata": {
        "id": "nKZuLreRSELZ"
      },
      "source": [
        "import torch.nn as nn # 신경망 모델들이 포함되어 있음. 여기서는 선형 변환 함수인 Linear 함수를 사용 \n",
        "import torch.optim as optim # gradient descent 알고리즘이 들어가있는 모듈 \n",
        "import torch.nn.init as init # 텐서에 초기값을 주기 위해 필요한 함수들이 들어있는 모듈 \n",
        "import matplotlib.pyplot as plt # 데이터 시각화를 위해 사용하는 모듈 "
      ],
      "execution_count": 17,
      "outputs": []
    },
    {
      "cell_type": "code",
      "metadata": {
        "id": "oGG50gzQSwbi"
      },
      "source": [
        "num_data = 1000\n",
        "num_epoch = 500\n",
        "\n",
        "x = init.uniform_(torch.Tensor(num_data, 1), -10, 10) \n",
        "noise = init.normal_(torch.FloatTensor(num_data, 1), std = 1)\n",
        "y = 2*x + 3\n",
        "y_noise = 2*(x + noise) + 3"
      ],
      "execution_count": 7,
      "outputs": []
    },
    {
      "cell_type": "markdown",
      "metadata": {
        "id": "2GtjPr9hT0L3"
      },
      "source": [
        "num_data에는 총 데이터의 개수, num_epoch에는 gradient descent를 반복할 횟수를 저장한다.  \n",
        "x라는 변수에는 [num_data, 1] 모양의 텐서를 생성하고, 원소에는 -10부터 10까지 임의의 수를 균등하게 넣는다.(init_uniform_)  \n",
        "\n",
        "y값에 노이즈를 추가하기 위해서 y_noise 라는 변수를 따로 만들어주었고, noise의 값은 정규분포 형태를 따르는 가우시안 노이즈를 사용하였다. init_normal_(mean=0(default), std = 1) \n",
        "\n",
        "\n"
      ]
    },
    {
      "cell_type": "code",
      "metadata": {
        "id": "o5t97SeDVFCN"
      },
      "source": [
        "model = nn.Linear(1, 1)\n",
        "loss_func = nn.L1Loss()"
      ],
      "execution_count": 8,
      "outputs": []
    },
    {
      "cell_type": "markdown",
      "metadata": {
        "id": "Q1m78gB6VKMa"
      },
      "source": [
        "nn.Linear() 함수를 통해 선형회귀 모델을 만들어준다. 파라미터 값으로는 들어오는 데이터의 특성 개수와, 결과값의 특성 개수를 받는다.  \n",
        "L1Loss는 우리가 앞에서 살펴본 MSE와 같다.  "
      ]
    },
    {
      "cell_type": "code",
      "metadata": {
        "id": "IMmpA5mIViCM"
      },
      "source": [
        "optimizer = optim.SGD(model.parameters(), lr = 0.01)"
      ],
      "execution_count": 9,
      "outputs": []
    },
    {
      "cell_type": "markdown",
      "metadata": {
        "id": "lhl3UlL2VoSr"
      },
      "source": [
        "다음에는 gradient descent를 사용하기 위해서 torch.optim에서 SGD optimizer를 불러온다.   \n",
        "optimizer는 최적화 함수를 뜻하며 gradient descent를 이용하여 오차를 줄이고 최적의 $w$와 $b$를 근사할 수 있게 한다.  \n",
        "model.parameters()를 이용하여 $w$와 $b$를 최적화 할 변수로 전달하고, lr = 0.01로 학습률을 전달한다.    \n"
      ]
    },
    {
      "cell_type": "code",
      "metadata": {
        "colab": {
          "base_uri": "https://localhost:8080/"
        },
        "id": "PdiCZOBSjw46",
        "outputId": "b367ecb3-06b8-4793-feb3-9cb843b56ae4"
      },
      "source": [
        "label = y_noise\n",
        "loss_arr = []\n",
        "for i in range(num_epoch): # num_epoch만큼 최적화 과정 반복  \n",
        "  optimizer.zero_grad() # 기울기를 0으로 초기화  \n",
        "  output = model(x) # 모델에 x를 전달 \n",
        "\n",
        "  loss = loss_func(output, label) # output과 y_noise의 차이를 저장 \n",
        "  loss.backward() # w와 b에 대한 기울기를 계산  \n",
        "  optimizer.step() # w와 b를 기울기에 따라 업데이트 \n",
        "\n",
        "  if i % 10 == 0:\n",
        "    print(loss.data)\n",
        "    param_list = list(model.parameters())\n",
        "    print(param_list[0].item(), param_list[1].item())\n",
        "  \n",
        "  loss_arr.append(loss.detach().numpy())"
      ],
      "execution_count": 20,
      "outputs": [
        {
          "output_type": "stream",
          "text": [
            "tensor(1.6449)\n",
            "2.0008463859558105 3.0776894092559814\n",
            "tensor(1.6449)\n",
            "2.0009021759033203 3.0780298709869385\n",
            "tensor(1.6449)\n",
            "2.00095796585083 3.0783703327178955\n",
            "tensor(1.6449)\n",
            "2.00101375579834 3.0787107944488525\n",
            "tensor(1.6449)\n",
            "2.0010695457458496 3.0790512561798096\n",
            "tensor(1.6449)\n",
            "2.0011253356933594 3.0793917179107666\n",
            "tensor(1.6449)\n",
            "2.001181125640869 3.0797321796417236\n",
            "tensor(1.6449)\n",
            "2.001138210296631 3.080082654953003\n",
            "tensor(1.6449)\n",
            "2.0011940002441406 3.08042311668396\n",
            "tensor(1.6449)\n",
            "2.0012497901916504 3.080763578414917\n",
            "tensor(1.6449)\n",
            "2.00130558013916 3.081104040145874\n",
            "tensor(1.6449)\n",
            "2.00136137008667 3.081444501876831\n",
            "tensor(1.6449)\n",
            "2.0014171600341797 3.081784963607788\n",
            "tensor(1.6449)\n",
            "2.0014729499816895 3.082125425338745\n",
            "tensor(1.6449)\n",
            "2.001331329345703 3.0824859142303467\n",
            "tensor(1.6449)\n",
            "2.0013794898986816 3.0827062129974365\n",
            "tensor(1.6449)\n",
            "2.001461982727051 3.0828263759613037\n",
            "tensor(1.6449)\n",
            "2.0015037059783936 3.0829265117645264\n",
            "tensor(1.6449)\n",
            "2.001347780227661 3.0830466747283936\n",
            "tensor(1.6449)\n",
            "2.001389503479004 3.083146810531616\n",
            "tensor(1.6449)\n",
            "2.0014312267303467 3.083246946334839\n",
            "tensor(1.6449)\n",
            "2.0014729499816895 3.0833470821380615\n",
            "tensor(1.6449)\n",
            "2.0015146732330322 3.083447217941284\n",
            "tensor(1.6449)\n",
            "2.001556396484375 3.083547353744507\n",
            "tensor(1.6449)\n",
            "2.0014004707336426 3.083667516708374\n",
            "tensor(1.6449)\n",
            "2.0014421939849854 3.0837676525115967\n",
            "tensor(1.6449)\n",
            "2.001538038253784 3.0838077068328857\n",
            "tensor(1.6449)\n",
            "2.0015621185302734 3.0838277339935303\n",
            "tensor(1.6449)\n",
            "2.001514434814453 3.0838277339935303\n",
            "tensor(1.6449)\n",
            "2.0015385150909424 3.083847761154175\n",
            "tensor(1.6449)\n",
            "2.0015625953674316 3.0838677883148193\n",
            "tensor(1.6449)\n",
            "2.0015149116516113 3.0838677883148193\n",
            "tensor(1.6449)\n",
            "2.001467227935791 3.0838677883148193\n",
            "tensor(1.6449)\n",
            "2.0014195442199707 3.0838677883148193\n",
            "tensor(1.6449)\n",
            "2.0013718605041504 3.0838677883148193\n",
            "tensor(1.6449)\n",
            "2.001593589782715 3.0838677883148193\n",
            "tensor(1.6449)\n",
            "2.0015459060668945 3.0838677883148193\n",
            "tensor(1.6449)\n",
            "2.001498222351074 3.0838677883148193\n",
            "tensor(1.6449)\n",
            "2.001450538635254 3.0838677883148193\n",
            "tensor(1.6449)\n",
            "2.0014028549194336 3.0838677883148193\n",
            "tensor(1.6449)\n",
            "2.0013551712036133 3.0838677883148193\n",
            "tensor(1.6449)\n",
            "2.0015769004821777 3.0838677883148193\n",
            "tensor(1.6449)\n",
            "2.0015292167663574 3.0838677883148193\n",
            "tensor(1.6449)\n",
            "2.001481533050537 3.0838677883148193\n",
            "tensor(1.6449)\n",
            "2.001433849334717 3.0838677883148193\n",
            "tensor(1.6449)\n",
            "2.0013861656188965 3.0838677883148193\n",
            "tensor(1.6449)\n",
            "2.001607894897461 3.0838677883148193\n",
            "tensor(1.6449)\n",
            "2.0015602111816406 3.0838677883148193\n",
            "tensor(1.6449)\n",
            "2.0015125274658203 3.0838677883148193\n",
            "tensor(1.6449)\n",
            "2.00146484375 3.0838677883148193\n"
          ],
          "name": "stdout"
        }
      ]
    },
    {
      "cell_type": "code",
      "metadata": {
        "colab": {
          "base_uri": "https://localhost:8080/",
          "height": 867
        },
        "id": "_qO5aqWCtzC6",
        "outputId": "ceefc99f-747a-4943-c7c3-e89040d7cef8"
      },
      "source": [
        "# 학습 이후 데이터 시각화  \n",
        "plt.figure(figsize = (15, 15))\n",
        "plt.scatter(x.numpy(),y_noise.numpy(),s=5,c=\"gray\")\n",
        "plt.scatter(x.detach().numpy(),output.detach().numpy(),s=5,c=\"red\")\n",
        "plt.axis([-10, 10, -30, 30])\n",
        "plt.show()"
      ],
      "execution_count": 18,
      "outputs": [
        {
          "output_type": "display_data",
          "data": {
            "image/png": "[encoded data removed]",
            "text/plain": [
              "<Figure size 1080x1080 with 1 Axes>"
            ]
          },
          "metadata": {
            "tags": [],
            "needs_background": "light"
          }
        }
      ]
    },
    {
      "cell_type": "code",
      "metadata": {
        "colab": {
          "base_uri": "https://localhost:8080/",
          "height": 276
        },
        "id": "xoYXRxKVuKpm",
        "outputId": "0d8e631e-1e49-4122-ef55-1d754e046a1e"
      },
      "source": [
        "# 손실 함수 \n",
        "plt.plot(loss_arr)\n",
        "plt.show()"
      ],
      "execution_count": 21,
      "outputs": [
        {
          "output_type": "display_data",
          "data": {
            "image/png": "[encoded data removed]",
            "text/plain": [
              "<Figure size 432x288 with 1 Axes>"
            ]
          },
          "metadata": {
            "tags": [],
            "needs_background": "light"
          }
        }
      ]
    },
    {
      "cell_type": "code",
      "metadata": {
        "colab": {
          "base_uri": "https://localhost:8080/"
        },
        "id": "M6taackCuhXq",
        "outputId": "f1be4910-fd3d-4f68-e0ed-a240e742e421"
      },
      "source": [
        "# 학습 이후 변수값 확인 \n",
        "param_list = list(model.parameters())\n",
        "print(\"Weight:\",param_list[0].item(),\"\\nBias:  \",param_list[1].item())"
      ],
      "execution_count": 22,
      "outputs": [
        {
          "output_type": "stream",
          "text": [
            "Weight: 2.0015835762023926 \n",
            "Bias:   3.0838677883148193\n"
          ],
          "name": "stdout"
        }
      ]
    }
  ]
}