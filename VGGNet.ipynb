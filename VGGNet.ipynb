{
  "nbformat": 4,
  "nbformat_minor": 0,
  "metadata": {
    "colab": {
      "name": "VGGNet.ipynb",
      "provenance": [],
      "authorship_tag": "ABX9TyPfjq0l3ki8hvKbkNm5RpOA",
      "include_colab_link": true
    },
    "kernelspec": {
      "name": "python3",
      "display_name": "Python 3"
    }
  },
  "cells": [
    {
      "cell_type": "markdown",
      "metadata": {
        "id": "view-in-github",
        "colab_type": "text"
      },
      "source": [
        "<a href=\"https://colab.research.google.com/github/Tin1209/Study-Pytorch/blob/main/VGGNet.ipynb\" target=\"_parent\"><img src=\"https://colab.research.google.com/assets/colab-badge.svg\" alt=\"Open In Colab\"/></a>"
      ]
    },
    {
      "cell_type": "code",
      "metadata": {
        "id": "lvlMSQ_8-I4o"
      },
      "source": [
        "import torch\n",
        "import torch.nn as nn\n",
        "import torch.optim as optim\n",
        "import torch.nn.init as init\n",
        "import torchvision.datasets as dset\n",
        "import torchvision.transforms as transforms\n",
        "from torch.utils.data import DataLoader\n",
        "\n"
      ],
      "execution_count": 1,
      "outputs": []
    },
    {
      "cell_type": "code",
      "metadata": {
        "id": "2e9BvMnz-Zw8"
      },
      "source": [
        "def conv_2_block(in_dim, out_dim):\n",
        "  model = nn.Sequential(\n",
        "      nn.Conv2d(in_dim, out_dim, kernel_size=3, padding=1),\n",
        "      nn.ReLU(),\n",
        "      nn.Conv2d(out_dim, out_dim, kernel_size=3, padding=1),\n",
        "      nn.ReLU(),\n",
        "      nn.MaxPool2d(2, 2)\n",
        "  )\n",
        "  return model\n",
        "\n",
        "def conv_3_block(in_dim, out_dim):\n",
        "  model = nn.Sequential(\n",
        "      nn.Conv2d(in_dim, out_dim, kernel_size=3, padding=1),\n",
        "      nn.ReLU(),\n",
        "      nn.Conv2d(out_dim, out_dim, kernel_size=3, padding=1),\n",
        "      nn.ReLU(),\n",
        "      nn.Conv2d(out_dim, out_dim, kernel_size=3, padding=1),\n",
        "      nn.ReLU(),\n",
        "      nn.MaxPool2d(2, 2)\n",
        "  )\n",
        "  return model\n",
        "\n",
        "class VGG(nn.Module):\n",
        "  def __init__(self, base_dim, num_classes=2):\n",
        "    super(VGG, self).__init__():\n",
        "      self.feature = nn.Sequential(\n",
        "          conv_2_block(3, base_dim),\n",
        "          conv_2_block(base_dim, 2*base_dim),\n",
        "          conv_3_block(2*base_dim, 4*base_dim),\n",
        "          conv_3_block(4*base_dim, 8*base_dim),\n",
        "          conv_3_block(8*base_dim, 8*base_dim)\n",
        "      )\n",
        "      self.fc_layer = nn.Sequential(\n",
        "          nn.Linear(8*base_dim*7*7, 100),\n",
        "          nn.ReLU(True),\n",
        "          nn.Linear(100, 20),\n",
        "          nn.ReLU(True),\n",
        "          nn.Linear(20, num_classes)\n",
        "      )\n",
        "\n",
        "  def forward(self, x):\n",
        "    x = self.feature(x)\n",
        "    x = x.view(x.size(0), -1)\n",
        "    x = self.fc_layer(x)\n",
        "    return x\n"
      ],
      "execution_count": null,
      "outputs": []
    }
  ]
}